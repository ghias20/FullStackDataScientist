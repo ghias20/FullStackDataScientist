{
 "cells": [
  {
   "cell_type": "code",
   "execution_count": 3,
   "id": "6be0183b",
   "metadata": {},
   "outputs": [
    {
     "name": "stdout",
     "output_type": "stream",
     "text": [
      "Hello\n"
     ]
    }
   ],
   "source": [
    "print(\"Hello\")"
   ]
  },
  {
   "cell_type": "code",
   "execution_count": 4,
   "id": "60c86d0a",
   "metadata": {},
   "outputs": [
    {
     "name": "stdout",
     "output_type": "stream",
     "text": [
      "a is : 3 b is : 5\n"
     ]
    }
   ],
   "source": [
    "a=int(input(\"Enter 1st number :\"))\n",
    "b=int(input(\"Enter 2nd number :\"))\n",
    "a,b=b,a\n",
    "print(\"a is :\",a,\"b is :\",b)"
   ]
  },
  {
   "cell_type": "code",
   "execution_count": 5,
   "id": "7f1e152e",
   "metadata": {},
   "outputs": [
    {
     "name": "stdout",
     "output_type": "stream",
     "text": [
      "olleH\n"
     ]
    }
   ],
   "source": [
    "str=\"Hello\"\n",
    "rstr=\"\"\n",
    "for char in str:\n",
    "    rstr=char+rstr\n",
    "print(rstr)"
   ]
  },
  {
   "cell_type": "code",
   "execution_count": 17,
   "id": "4acda06e",
   "metadata": {},
   "outputs": [
    {
     "name": "stdout",
     "output_type": "stream",
     "text": [
      "Entered number is armstrong\n"
     ]
    }
   ],
   "source": [
    "amt=153\n",
    "ori=amt\n",
    "ans=0\n",
    "b=3\n",
    "while(amt>0):\n",
    "    rem=amt%10\n",
    "    rem=rem**b\n",
    "    amt=amt//10\n",
    "    ans=ans+rem\n",
    "if(ans==ori):\n",
    "    print(\"Entered number is armstrong\")\n",
    "else:\n",
    "    print(\"Entered number is not an armstrong\")"
   ]
  },
  {
   "cell_type": "code",
   "execution_count": 18,
   "id": "fee882e1",
   "metadata": {},
   "outputs": [
    {
     "name": "stdout",
     "output_type": "stream",
     "text": [
      "Vowels count :  5 Consonants count :  9\n"
     ]
    }
   ],
   "source": [
    "a=input(\"Enter a sentence : \")\n",
    "vcount=0\n",
    "ccount=0\n",
    "for char in a:\n",
    "    if char in [\"a\",\"e\",\"i\",\"o\",\"u\"]:\n",
    "        vcount+=1\n",
    "    else :\n",
    "        ccount+=1\n",
    "print(\"Vowels count : \",vcount,\"Consonants count : \",ccount)"
   ]
  },
  {
   "cell_type": "code",
   "execution_count": 1,
   "id": "34189b9b",
   "metadata": {},
   "outputs": [
    {
     "name": "stdout",
     "output_type": "stream",
     "text": [
      "2\n",
      "4\n",
      "6\n",
      "8\n",
      "10\n",
      "12\n",
      "14\n",
      "16\n",
      "18\n",
      "20\n"
     ]
    }
   ],
   "source": [
    "a=int(input(\"Enter a number to generate a table : \"))\n",
    "for i in range(1,11):\n",
    "    print(a*i)"
   ]
  },
  {
   "cell_type": "code",
   "execution_count": 2,
   "id": "e4c6cef9",
   "metadata": {},
   "outputs": [
    {
     "name": "stdout",
     "output_type": "stream",
     "text": [
      "is a leap year\n"
     ]
    }
   ],
   "source": [
    "year=int(input(\"ENter a number to check if it is a leap year: \"))\n",
    "if(year%4==0):\n",
    "    if(year%100==0):\n",
    "        if(year%400==0):\n",
    "            print(\"is a leap year\")\n",
    "        else:\n",
    "            print(\"is not a leap year\")\n",
    "        \n",
    "    else:\n",
    "        print(\"is a leap year\")\n",
    "else :\n",
    "    print(\"is not a leap year\")"
   ]
  },
  {
   "cell_type": "code",
   "execution_count": 3,
   "id": "9374d505",
   "metadata": {},
   "outputs": [
    {
     "name": "stdout",
     "output_type": "stream",
     "text": [
      "5\n"
     ]
    }
   ],
   "source": [
    "l=list(map(int,input().split()))\n",
    "m=max(l)\n",
    "print(m)"
   ]
  },
  {
   "cell_type": "code",
   "execution_count": 4,
   "id": "bbbd2ea4",
   "metadata": {},
   "outputs": [
    {
     "name": "stdout",
     "output_type": "stream",
     "text": [
      "is a palindrome\n"
     ]
    }
   ],
   "source": [
    "a=input(\"Enter a number to check if it is a palindrome : \")\n",
    "if(a==a[::-1]):\n",
    "    print(\"is a palindrome\")\n",
    "else:\n",
    "    print(\"not a palindrome\")"
   ]
  },
  {
   "cell_type": "code",
   "execution_count": 5,
   "id": "aee51996",
   "metadata": {},
   "outputs": [
    {
     "name": "stdout",
     "output_type": "stream",
     "text": [
      "120\n"
     ]
    }
   ],
   "source": [
    "def fact(n):\n",
    "    if(n==0 or n==1):\n",
    "        return 1\n",
    "    else:\n",
    "        return n*fact(n-1)\n",
    "n=int(input(\"Enter a number : \"))\n",
    "print(fact(n))"
   ]
  }
 ],
 "metadata": {
  "kernelspec": {
   "display_name": "Python 3",
   "language": "python",
   "name": "python3"
  },
  "language_info": {
   "codemirror_mode": {
    "name": "ipython",
    "version": 3
   },
   "file_extension": ".py",
   "mimetype": "text/x-python",
   "name": "python",
   "nbconvert_exporter": "python",
   "pygments_lexer": "ipython3",
   "version": "3.10.0"
  }
 },
 "nbformat": 4,
 "nbformat_minor": 5
}
