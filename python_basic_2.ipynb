{
 "cells": [
  {
   "cell_type": "code",
   "execution_count": 1,
   "id": "ded647a7",
   "metadata": {},
   "outputs": [
    {
     "name": "stdout",
     "output_type": "stream",
     "text": [
      "100\n",
      "250\n",
      "310\n"
     ]
    }
   ],
   "source": [
    "total_bill=0\n",
    "for i in range(1,3+1):\n",
    "    a=int(input(\"Enter price of the item: \"))\n",
    "    b=int(input(\"Enter the quantity: \"))\n",
    "    total_bill=total_bill+(a*b)\n",
    "    print(total_bill)\n"
   ]
  },
  {
   "cell_type": "code",
   "execution_count": null,
   "id": "c3ecb71e",
   "metadata": {},
   "outputs": [],
   "source": []
  },
  {
   "cell_type": "code",
   "execution_count": 2,
   "id": "791ceff5",
   "metadata": {},
   "outputs": [
    {
     "name": "stdout",
     "output_type": "stream",
     "text": [
      "addition:  19 \n",
      " subtraction:  11 \n",
      " multiplication:  60 \n",
      "division:  3.75 \n",
      " modulo :  3\n"
     ]
    }
   ],
   "source": [
    "a=int(input(\"Enter 1st number : \"))\n",
    "b=int(input(\"Enter 2nd number : \"))\n",
    "addition=a+b\n",
    "subtraction=a-b\n",
    "multiplication=a*b\n",
    "division=a/b\n",
    "modulo=a%b\n",
    "print(\"addition: \",addition,\"\\n subtraction: \",subtraction,\"\\n multiplication: \",multiplication,\"\\ndivision: \",division,\n",
    "      \"\\n modulo : \",modulo)"
   ]
  },
  {
   "cell_type": "code",
   "execution_count": 3,
   "id": "0eeff329",
   "metadata": {},
   "outputs": [
    {
     "name": "stdout",
     "output_type": "stream",
     "text": [
      "A\n"
     ]
    }
   ],
   "source": [
    "a=int(input(\"Enter the number of marks obtained : \"))\n",
    "while(a>0):\n",
    "    if(a>=90):\n",
    "        print(\"A+\")\n",
    "        break\n",
    "    elif(a>=80 and a<=89):\n",
    "        print(\"A\")\n",
    "        break\n",
    "    elif(a>=70 and a<=79):\n",
    "        print(\"B\")\n",
    "        break\n",
    "    elif(a>=60 and a<=69):\n",
    "        print(\"C\")\n",
    "        break\n",
    "    else:\n",
    "        print(\"Fail\")\n",
    "        break"
   ]
  },
  {
   "cell_type": "code",
   "execution_count": 4,
   "id": "41314c6a",
   "metadata": {},
   "outputs": [
    {
     "name": "stdout",
     "output_type": "stream",
     "text": [
      "Lowest Marks :  45\n",
      "Highest Marks :  90\n",
      "Average Marks :  71.4\n"
     ]
    }
   ],
   "source": [
    "list1=list(map(int,input(\"ENter the marks of the students : \").split(\" \")))\n",
    "print(\"Lowest Marks : \",min(list1))\n",
    "print(\"Highest Marks : \",max(list1))\n",
    "# def avg():\n",
    "#     asum=0\n",
    "#     for i in list1:\n",
    "#         asum+=list1\n",
    "#     return asum/len(list1)\n",
    "print(\"Average Marks : \",sum(list1)/len(list1))"
   ]
  },
  {
   "cell_type": "code",
   "execution_count": 5,
   "id": "4f294a22",
   "metadata": {},
   "outputs": [
    {
     "name": "stdout",
     "output_type": "stream",
     "text": [
      "Phone number of  Ravi  is  9123456780\n"
     ]
    }
   ],
   "source": [
    "Phonebook = {\"Suhel\": 9876543210, \"Ravi\": 9123456780, \"Anita\": 9988776655}\n",
    "a=input(\"ENter key to search : \")\n",
    "if a in Phonebook:\n",
    "    print(\"Phone number of \",a,\" is \",Phonebook[a])"
   ]
  },
  {
   "cell_type": "code",
   "execution_count": 1,
   "id": "229b92c5",
   "metadata": {},
   "outputs": [
    {
     "name": "stdout",
     "output_type": "stream",
     "text": [
      "Total characters : 11\n",
      "Total words :  2\n",
      "Total vowels :  3\n"
     ]
    }
   ],
   "source": [
    "a=input(\"enter a string : \")\n",
    "ccount=0\n",
    "for char in a:\n",
    "    ccount=ccount+1\n",
    "print(\"Total characters :\" , ccount)\n",
    "b=a.split(\" \")\n",
    "print(\"Total words : \",len(b))\n",
    "vcount=0\n",
    "for char in a:\n",
    "    if char in {\"a\",\"e\",\"i\",\"o\",\"u\"}:\n",
    "        vcount=vcount+1\n",
    "print(\"Total vowels : \",vcount)"
   ]
  },
  {
   "cell_type": "code",
   "execution_count": 2,
   "id": "026b5730",
   "metadata": {},
   "outputs": [
    {
     "name": "stdout",
     "output_type": "stream",
     "text": [
      "5512.5\n"
     ]
    }
   ],
   "source": [
    "a=int(input(\"ENter the principal amount : \"))\n",
    "interest=int(input(\"ENter the rate of interest per annum: \"))\n",
    "years=int(input(\"Enter the tenure(No of years): \"))\n",
    "b=a\n",
    "while(a>0):\n",
    "    if(years>1):\n",
    "        for i in range(1,years+1):\n",
    "            b=b+(b*(interest/100))\n",
    "            i+=1\n",
    "        print(b)\n",
    "        break\n",
    "    else:\n",
    "        print(\"Enter tenure greater than 1 year\")"
   ]
  },
  {
   "cell_type": "code",
   "execution_count": 3,
   "id": "c80adbde",
   "metadata": {},
   "outputs": [
    {
     "name": "stdout",
     "output_type": "stream",
     "text": [
      "Encrypted Message: KHOOR\n"
     ]
    }
   ],
   "source": [
    "message = input(\"Enter the message: \").upper()\n",
    "shift = int(input(\"Enter the shift key: \"))\n",
    "encrypted_message = \"\"\n",
    "for char in message:\n",
    "    if char.isalpha():\n",
    "        encrypted_char = chr(((ord(char) - 65 + shift) % 26) + 65)\n",
    "        encrypted_message += encrypted_char\n",
    "    else:\n",
    "        encrypted_message += char \n",
    "print(\"Encrypted Message:\", encrypted_message)\n"
   ]
  },
  {
   "cell_type": "code",
   "execution_count": 4,
   "id": "c9122eda",
   "metadata": {},
   "outputs": [
    {
     "name": "stdout",
     "output_type": "stream",
     "text": [
      "PIN Verified.\n",
      "Withdrawal Successful. Remaining Balance = 2000\n"
     ]
    }
   ],
   "source": [
    "pin = 1234\n",
    "balance = 5000\n",
    "Pin = int(input(\"PIN: \"))\n",
    "if Pin == pin:\n",
    "    print(\"PIN Verified.\")\n",
    "    withdraw = int(input(\"Withdraw: \"))\n",
    "    if withdraw <= balance:\n",
    "        balance -= withdraw\n",
    "        print(\"Withdrawal Successful. Remaining Balance =\", balance)\n",
    "    else:\n",
    "        print(\"Insufficient Balance\")\n",
    "else:\n",
    "    print(\"Invalid PIN\")"
   ]
  }
 ],
 "metadata": {
  "kernelspec": {
   "display_name": "base",
   "language": "python",
   "name": "python3"
  },
  "language_info": {
   "codemirror_mode": {
    "name": "ipython",
    "version": 3
   },
   "file_extension": ".py",
   "mimetype": "text/x-python",
   "name": "python",
   "nbconvert_exporter": "python",
   "pygments_lexer": "ipython3",
   "version": "3.13.5"
  }
 },
 "nbformat": 4,
 "nbformat_minor": 5
}
